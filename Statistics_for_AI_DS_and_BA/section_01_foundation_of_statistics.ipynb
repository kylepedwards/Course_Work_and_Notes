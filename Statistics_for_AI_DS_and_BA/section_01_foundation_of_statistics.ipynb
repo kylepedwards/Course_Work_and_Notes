{
 "cells": [
  {
   "cell_type": "markdown",
   "id": "450ad173",
   "metadata": {},
   "source": [
    "# <ins>**Section 01: Foundation of Statistics**</ins>"
   ]
  },
  {
   "cell_type": "markdown",
   "id": "cdde3151",
   "metadata": {},
   "source": [
    "### <ins>**Part 1: Introduction to Statistics**</ins>\n",
    "* **Data** and **information** are often used interchangeably, but there are differences between these components and their purpose. \n",
    "* <ins>**Data**</ins>: A collection of individual facts or statistics; Raw form of knowledge.\n",
    "    * <ins>Can come in various forms</ins>: text, observations, figures, numbers, graphs, *etc.* <ins>Types of Data</ins>: \n",
    "        * <ins>Quantitative Data</ins>: Dealing with numerical data.\n",
    "        * <ins>Qualitative Data</ins>: Dealing with non-numerical data.\n",
    "* <ins>**Information**</ins>: Knowledge gained through study, communication, research, or instruction; Result of analyzing and interpreting pieces of data.\n",
    "    * <ins>Examples</ins>:\n",
    "        * Temperature readings in a location. &rarr; <ins>Data</ins>\n",
    "        * Determine seasonal temperature patterns. &rarr; <ins>Information</ins>\n",
    "* <ins>Differences between **Data** and **Information**</ins>:\n",
    "\n",
    "| **Data** | **Information** |\n",
    "| :-----: | :-----: |\n",
    "| 1. A collection of facts. | 1. Puts facts into context. |\n",
    "| 2. Raw and unorganized. | 2. Organized. |\n",
    "| 3. Data points are individual and sometimes unrelated. | 3. Maps out data points in order to provide a big-picture view of how it all fits together. |\n",
    "| 4. Meaningless on its own. | 4. When analyzed and interpreted, data becomes meaningful information. |\n",
    "| 5. Independent of information. | 5. Dependent on data. |\n",
    "| 6. Typically comes in the form of graphs, numbers, figures, or statistics. | 6. Typically presented through words, languages, thoughts, and ideas. |\n",
    "| 7. Insufficient for decision-making. | 7. Sufficient for decision-making. |\n",
    "\n",
    "* Both are critical elements for business decision-making.\n",
    "\n",
    "* <ins>**Statistics**</ins>: (From Google Search AI Overview) The science of collecting, organizing, analyzing, interpreting, and presenting data to understand the world and make informed decisions. \n",
    "    * <ins>Two main branches</ins>: \n",
    "        * <ins>Descriptive Statistics</ins>: Focuses on summarizing and describing the main features of a dataset.\n",
    "        * <ins>Inferential Statistics</ins>: Involves using data from a sample to make educated guesses or predictions about an entire population.\n",
    "    * <ins>How Statistics Works</ins>: \n",
    "        1. <ins>Collect Data</ins>: Gather raw information from individuals or elements of a sample.\n",
    "        2. <ins>Organize Data</ins>: Structure the collected data to make it more meaningful, often using tables or graphs.\n",
    "        3. <ins>Analyze Data</ins>: Apply statistical methods and techniques to understand patterns, relationships, and trends within the data.\n",
    "        4. <ins>Interpret Data</ins>: Draw conclusions and make inferences from the analysis to gain insights into a broader population.\n",
    "        5. <ins>Present Data</ins>: Communicate the findings in a clear, understandable way, using descriptive summaries and explanations."
   ]
  },
  {
   "cell_type": "markdown",
   "id": "a7d7fc13",
   "metadata": {},
   "source": []
  }
 ],
 "metadata": {
  "language_info": {
   "name": "python"
  }
 },
 "nbformat": 4,
 "nbformat_minor": 5
}
