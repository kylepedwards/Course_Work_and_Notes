{
 "cells": [
  {
   "cell_type": "markdown",
   "id": "721d3194",
   "metadata": {},
   "source": [
    "# <ins>**Section 01: Foundation of Statistics**</ins>"
   ]
  },
  {
   "cell_type": "markdown",
   "id": "31c55d86",
   "metadata": {},
   "source": [
    "### <ins>Part 01: Introduction to Statistics</ins>\n",
    "* <ins>**Data**</ins> and <ins>**information**</ins> are often used interchangeably, but there are differences between these components and their purpose.\n",
    "* <ins>**Data**</ins>: A collection of individual facts or statistics; Raw form of knowledge.\n",
    "    * ***Ex.*** Individual prices, weights, addresses, ages, names, temperatues, dates, distances *ect.*\n",
    "    * <ins>Types of Data</ins>:\n",
    "        * <ins>Quantitative Data</ins>: Deals with numerical data (*Eg.* salary, weight, *etc.*).\n",
    "        * <ins>Qualitative Data</ins>: Deals with non-numerical data (*Eg.* name, gender, *etc.*).\n",
    "* <ins>**Information**</ins>: Knowledge gained through study, communication, research, or instruction; Result of analyzing and interpreting pieces of data.\n",
    "    * ***Ex.***\n",
    "        * Temperature readings in a location. &rarr; **Data**\n",
    "        * Determine seasonal temperature patterns. &rarr; **Information**\n",
    "* <ins>Differences between **Data** and **Information**</ins>: (Both are still critical for business decision-making)\n",
    "\n",
    "| **Data** | **Information** |\n",
    "| :-----: | :-----: |\n",
    "| 1. A collection of facts. | 1. Puts those collection(s) of facts into context. |\n",
    "| 2. Raw and unorganized. | 2. Organized. |\n",
    "| 3. Data points are individual and sometimes unrelated. | 3. Information maps out data in order to provide a big-picture view of how it all fits together. |\n",
    "| 4. Meaningless on its own. | 4. When analyzed and interpreted, data becomes meaningful information. |\n",
    "| 5. Independent of information. | 5. Dependent on data. |\n",
    "| 6. Typically comes in the form of graphs, numbers, figures, or statistics. | 6. Typically presented through words, language, thoughts, and ideas. |\n",
    "| 7. Insufficient for decision-making. | 7. Sufficient for decision-making. |\n",
    "\n",
    "* <ins>**Statistics**</ins>: (From Google Search AI Overview) The scientific discipline of collecting, analyzing, interpreting, and presenting empirical data to understand variability and uncertainty and make informed decisions.\n",
    "    * <ins>What Statistics Is</ins>: \n",
    "        * <ins>The Science of Data</ins>: Statistics provides the methods and tools for learning from data.\n",
    "        * <ins>Interdisciplinary Field</ins>: It applies to virtually all scientific fields, helping researchers, businesses, and governments make decisions.\n",
    "    * <ins>Types of Statistics</ins>: \n",
    "        1. <ins>Descriptive Statistics</ins>: This branch focuses on summarizing and describing the main features of a dataset.\n",
    "        2. <ins>Inferential Statistics</ins>: This branch uses a sample of data to make inferences or generalizations about a larger population."
   ]
  },
  {
   "cell_type": "markdown",
   "id": "31d9cd42",
   "metadata": {},
   "source": []
  }
 ],
 "metadata": {
  "language_info": {
   "name": "python"
  }
 },
 "nbformat": 4,
 "nbformat_minor": 5
}
