{
 "cells": [
  {
   "cell_type": "markdown",
   "id": "3fd9ba91",
   "metadata": {},
   "source": [
    "# Section 01: Foundation of Statistics"
   ]
  },
  {
   "cell_type": "markdown",
   "id": "5409b4f6",
   "metadata": {},
   "source": [
    "## 1. Introduction to Statistics\n",
    "\n",
    "### <ins>Data and Information</ins>\n",
    "**<ins>Data</ins>** and **<ins>information</ins>** are often used interchangeably, but there are subtle differences between these two components and their purpose.\n",
    "\n",
    "* **<ins>Data</ins>**: A collection of individual facts or statistics; Raw form of knowledge.\n",
    "    * Can come in various forms: text, observations, figures, numbers, graphs, *etc.*\n",
    "    * *Ex.* Individual prices, weights, addresses, ages, names, dates, distances, temperatures, *etc.*\n",
    "    * **<ins>Types of Data</ins>**: \n",
    "        * <ins>Quantitative Data</ins>: Deals with numerical data (*Eg.* salary, weight, *etc.*).\n",
    "        * <ins>Qualitative Data</ins>: Deals with non-numerical data (*Eg.* name, gender, *etc.*).\n",
    "* **<ins>Information</ins>**: Knowledge gained through study, communication, research, or instruction; Result of analyzing and interpreting pieces of data.\n",
    "    * *Ex.*:\n",
    "        * Temperature readings in a location &rarr; <ins>Data</ins>\n",
    "        * Determine seasonal temperature patterns &rarr; <ins>Information</ins>\n",
    "\n",
    "**<ins>Differences between Data and Information</ins>**:\n",
    "\n",
    "| **Data** | **Information** |\n",
    "| :-------: | :-------: |\n",
    "| 1. A collection of facts. | 1. Puts facts into context. |\n",
    "| 2. Raw and unorganized. | 2. Organized. |\n",
    "| 3. Data points are individual and sometimes unrelated. | 3. Maps out data in order to provide a big-picture view of how it all fits together. |\n",
    "| 4. Meaningless on its own. | 4. When analyzed and interpreted, <ins>data</ins> becomes meaningful <ins>information</ins>. |\n",
    "| 5. Independent from <ins>information</ins>. | 5. Dependent on <ins>data</ins>. |\n",
    "| 6. Typically comes in the form of graphs, numbers, figures, or statistics. | 6. Typically presented through words, languages, thoughts, and ideas. |\n",
    "| 7. Insufficient for decision-making. | 7. Sufficient for decision-making. |\n",
    "\n",
    "### <ins>What is Statistics?</ins>\n",
    "* **<ins>Statistics</ins>**: (From AI Overview in Google search) The science of collecting, organizing, analyzing, interpreting, and presenting data to make informed decisions and predictions.\n",
    "    * **<ins>Two main branches</ins>**: \n",
    "        * <ins>Descriptive Statistics</ins>: Summarizes sample data, focusing on describing the basic features of the data in a study.\n",
    "        * <ins>Inferential Statistics</ins>: Uses sample data to make generalizations or predictions about a larger population from which the sample was drawn.\n",
    "    * **<ins>Key Aspects of Statistics</ins>**: \n",
    "        * <ins>Data Collection</ins>: Gathering information from a sample group of study.\n",
    "        * <ins>Data Analysis</ins>: Applying mathematical and statistical techniques to examine and understand the collected data.\n",
    "        * <ins>Data Interpretation</ins>: Drawing meaningful conclusions and making decisions based on the data analysis.\n",
    "        * <ins>Data Presentation</ins>: Summarizing and displaying the data in an understandable format, such as tables or graphs.\n",
    "    * **<ins>Why Statistics is Important</ins>**:\n",
    "        * <ins>Informed Decision-Making</ins>: Provides the factual basis for making wise decisions in various fields.\n",
    "        * <ins>Understanding Uncertainty</ins>: Offers methods for understanding and managing situations involving uncertainty and variation.\n",
    "        * <ins>Interdisciplinary Application</ins>: Fundamental to many scientific and industrial disciplines, helping to solve complex problems.\n",
    "        * <ins>Data-Driven Insights</ins>: Helps uncover patterns and trends in large datasets (in fields like medicine, finance, and marketing).\n"
   ]
  },
  {
   "cell_type": "markdown",
   "id": "261b64d8",
   "metadata": {},
   "source": []
  }
 ],
 "metadata": {
  "language_info": {
   "name": "python"
  }
 },
 "nbformat": 4,
 "nbformat_minor": 5
}
