{
 "cells": [
  {
   "cell_type": "markdown",
   "id": "cea72632",
   "metadata": {},
   "source": [
    "# <ins>Section 01: Introduction to Data Science</ins>:\n",
    "\n"
   ]
  },
  {
   "cell_type": "markdown",
   "id": "fa11b343",
   "metadata": {},
   "source": []
  }
 ],
 "metadata": {
  "language_info": {
   "name": "python"
  }
 },
 "nbformat": 4,
 "nbformat_minor": 5
}
